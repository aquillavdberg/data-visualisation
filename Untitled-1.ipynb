{
 "cells": [
  {
   "attachments": {},
   "cell_type": "markdown",
   "metadata": {},
   "source": [
    "kleine test of pandas wel de csv's correct output"
   ]
  },
  {
   "cell_type": "code",
   "execution_count": 9,
   "metadata": {},
   "outputs": [],
   "source": [
    "# Data handling\n",
    "import pandas as pd\n",
    "import numpy as np\n",
    "import csv\n",
    "\n",
    "# Bokeh libraries\n",
    "from bokeh.io import output_file, output_notebook\n",
    "from bokeh.layouts import row, column, gridplot\n",
    "from bokeh.plotting import figure, show\n",
    "from bokeh.models import ColumnDataSource, CDSView, GroupFilter, TabPanel, Tabs\n",
    "from bokeh.plotting import reset_output\n",
    "from bokeh.models import HoverTool"
   ]
  },
  {
   "cell_type": "code",
   "execution_count": 27,
   "metadata": {},
   "outputs": [],
   "source": [
    "def file_to_pd(lib):\n",
    "    dfs = [pd.read_csv(lib[key]) for key in lib]\n",
    "    return dfs"
   ]
  },
  {
   "cell_type": "code",
   "execution_count": 26,
   "metadata": {},
   "outputs": [],
   "source": [
    "stats_ratings_country = {6: 'stats_ratings_202106_country(1).csv',\n",
    "                7: 'stats_ratings_202107_country(1).csv',\n",
    "                8: 'stats_ratings_202108_country(1).csv',\n",
    "                9: 'stats_ratings_202109_country(1).csv',\n",
    "                10: 'stats_ratings_202110_country(1).csv',\n",
    "                11: 'stats_ratings_202111_country(1).csv',\n",
    "                12: 'stats_ratings_202112_country(1).csv'}\n",
    "stat_crashes = {6: 'stats_crashes_202106_overview(1).csv',\n",
    "                7: 'stats_crashes_202107_overview(1).csv',\n",
    "                8: 'stats_crashes_202108_overview(1).csv',\n",
    "                9: 'stats_crashes_202109_overview(1).csv',\n",
    "                10: 'stats_crashes_202110_overview(1).csv',\n",
    "                11: 'stats_crashes_202111_overview(1).csv',\n",
    "                12: 'stats_crashes_202112_overview(1).csv'}\n",
    "stats_ratings_overview = {6: 'stats_ratings_202106_overview(1).csv',\n",
    "                7: 'stats_ratings_202107_overview(1).csv',\n",
    "                8: 'stats_ratings_202108_overview(1).csv',\n",
    "                9: 'stats_ratings_202109_overview(1).csv',\n",
    "                10: 'stats_ratings_202110_overview(1).csv',\n",
    "                11: 'stats_ratings_202111_overview(1).csv',\n",
    "                12: 'stats_ratings_202112_overview(1).csv'}"
   ]
  },
  {
   "cell_type": "code",
   "execution_count": 37,
   "metadata": {},
   "outputs": [],
   "source": [
    "dfs_crashes = file_to_pd(stat_crashes)\n",
    "dfs_ratings_country = file_to_pd(stats_ratings_country)\n",
    "dfs_ratings_overview = file_to_pd(stats_ratings_overview)"
   ]
  },
  {
   "cell_type": "markdown",
   "metadata": {},
   "source": []
  }
 ],
 "metadata": {
  "kernelspec": {
   "display_name": "Python 3",
   "language": "python",
   "name": "python3"
  },
  "language_info": {
   "codemirror_mode": {
    "name": "ipython",
    "version": 3
   },
   "file_extension": ".py",
   "mimetype": "text/x-python",
   "name": "python",
   "nbconvert_exporter": "python",
   "pygments_lexer": "ipython3",
   "version": "3.11.1"
  },
  "orig_nbformat": 4,
  "vscode": {
   "interpreter": {
    "hash": "afefc1c1cec87fc13f2a9aed41404bd04a9b15c75e1e449c90d8920987b76e14"
   }
  }
 },
 "nbformat": 4,
 "nbformat_minor": 2
}
